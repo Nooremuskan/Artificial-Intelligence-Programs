{
  "nbformat": 4,
  "nbformat_minor": 0,
  "metadata": {
    "colab": {
      "provenance": [],
      "authorship_tag": "ABX9TyOr5NU6jLCvIbeAQl/XtCOy",
      "include_colab_link": true
    },
    "kernelspec": {
      "name": "python3",
      "display_name": "Python 3"
    },
    "language_info": {
      "name": "python"
    }
  },
  "cells": [
    {
      "cell_type": "markdown",
      "metadata": {
        "id": "view-in-github",
        "colab_type": "text"
      },
      "source": [
        "<a href=\"https://colab.research.google.com/github/Nooremuskan/Artificial-Intelligence-Programs/blob/main/Stemmers.ipynb\" target=\"_parent\"><img src=\"https://colab.research.google.com/assets/colab-badge.svg\" alt=\"Open In Colab\"/></a>"
      ]
    },
    {
      "cell_type": "code",
      "execution_count": 5,
      "metadata": {
        "colab": {
          "base_uri": "https://localhost:8080/"
        },
        "id": "RssyBp4MLROw",
        "outputId": "b78bd4fe-d47a-4906-ca15-27570c6e5f59"
      },
      "outputs": [
        {
          "output_type": "stream",
          "name": "stdout",
          "text": [
            "running → run\n",
            "jumps → jump\n",
            "easily → easili\n",
            "flying → fli\n",
            "happier → happier\n"
          ]
        }
      ],
      "source": [
        "from nltk.stem import PorterStemmer\n",
        "\n",
        "# Create object\n",
        "porter = PorterStemmer()\n",
        "\n",
        "# Example words\n",
        "words = [\"running\", \"jumps\", \"easily\", \"flying\", \"happier\"]\n",
        "\n",
        "# Apply stemming\n",
        "for word in words:\n",
        "    print(word, \"→\", porter.stem(word))"
      ]
    },
    {
      "cell_type": "code",
      "source": [
        "from nltk.stem import SnowballStemmer\n",
        "\n",
        "# Create object (for English)\n",
        "snowball = SnowballStemmer(\"english\")\n",
        "\n",
        "# Example words\n",
        "words = [\"running\", \"jumps\", \"easily\", \"flying\", \"happier\"]\n",
        "\n",
        "# Apply stemming\n",
        "for word in words:\n",
        "    print(word, \"→\", snowball.stem(word))"
      ],
      "metadata": {
        "colab": {
          "base_uri": "https://localhost:8080/"
        },
        "id": "UqZ7RqBuLnul",
        "outputId": "a4994de5-d6be-4bb0-c4b6-a2c995b79b23"
      },
      "execution_count": 6,
      "outputs": [
        {
          "output_type": "stream",
          "name": "stdout",
          "text": [
            "running → run\n",
            "jumps → jump\n",
            "easily → easili\n",
            "flying → fli\n",
            "happier → happier\n"
          ]
        }
      ]
    }
  ]
}